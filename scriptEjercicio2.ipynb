{
 "cells": [
  {
   "cell_type": "markdown",
   "id": "0a5c1ac1-fd4a-4fb1-923b-021b44eeacc6",
   "metadata": {},
   "source": [
    "# Web Scraping, Ejercicio de la prueba 2"
   ]
  },
  {
   "cell_type": "code",
   "execution_count": 1,
   "id": "36cbc27b-e04a-49bd-b8b4-7943e6d36d8a",
   "metadata": {},
   "outputs": [],
   "source": [
    "from  bs4 import BeautifulSoup\n",
    "import requests"
   ]
  },
  {
   "cell_type": "code",
   "execution_count": 2,
   "id": "045c1b44-a46a-4a20-8cdf-f93fe559104c",
   "metadata": {},
   "outputs": [],
   "source": [
    "url = \"https://es.wikipedia.org/wiki/Sistema_solar\"\n",
    "pagina = requests.get(url)\n",
    "soup = BeautifulSoup(pagina.text,'html.parser')"
   ]
  },
  {
   "cell_type": "code",
   "execution_count": 3,
   "id": "d762ec84-e8bc-437c-aa8f-12059b9f19bd",
   "metadata": {},
   "outputs": [
    {
     "name": "stdout",
     "output_type": "stream",
     "text": [
      "Planeta enano: Ceres, Satélites naturales: 952,4\n",
      "Planeta enano: Plutón, Satélites naturales: 2370\n",
      "Planeta enano: Haumea, Satélites naturales: 1300-1900\n",
      "Planeta enano: Makemake, Satélites naturales: 1.420 ± 60\n",
      "Planeta enano: Eris, Satélites naturales: 2326\n"
     ]
    }
   ],
   "source": [
    "\n",
    "tablas = soup.find_all('table')\n",
    "\n",
    "tabla_planetas_enanos = None\n",
    "for tabla in tablas:\n",
    "    if 'Planeta enano' in tabla.text:\n",
    "        tabla_planetas_enanos = tabla\n",
    "        break\n",
    "\n",
    "if tabla_planetas_enanos is not None:\n",
    "    \n",
    "    filas = tabla_planetas_enanos.find_all('tr')\n",
    "    for fila in filas[1:]:  \n",
    "        columnas = fila.find_all('td')\n",
    "        nombre_planeta = columnas[0].text.strip()\n",
    "        cantidad_satelites = columnas[2].text.strip()  \n",
    "        print(f\"Planeta enano: {nombre_planeta}, Satélites naturales: {cantidad_satelites}\")\n",
    "else:\n",
    "    print(\"No se pudo encontrar la tabla de planetas enanos.\")"
   ]
  },
  {
   "cell_type": "code",
   "execution_count": null,
   "id": "7b5325e7-b4b3-4f99-bf3d-8b69c7eafc61",
   "metadata": {},
   "outputs": [],
   "source": []
  }
 ],
 "metadata": {
  "kernelspec": {
   "display_name": "Python 3 (ipykernel)",
   "language": "python",
   "name": "python3"
  },
  "language_info": {
   "codemirror_mode": {
    "name": "ipython",
    "version": 3
   },
   "file_extension": ".py",
   "mimetype": "text/x-python",
   "name": "python",
   "nbconvert_exporter": "python",
   "pygments_lexer": "ipython3",
   "version": "3.12.1"
  }
 },
 "nbformat": 4,
 "nbformat_minor": 5
}
